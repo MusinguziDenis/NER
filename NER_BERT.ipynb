{
  "cells": [
    {
      "cell_type": "markdown",
      "metadata": {
        "id": "TJIAQTsAzkZ0"
      },
      "source": [
        "# Fine-tuning BERT for entity labeling\n",
        "This notebook contains starter code for finetuning a BERT-style model for the task of entity recognition."
      ]
    },
    {
      "cell_type": "code",
      "execution_count": null,
      "metadata": {},
      "outputs": [],
      "source": [
        "!pip install protobuf==3.20.2\n",
        "!pip install transformers\n",
        "!pip install datasets\n",
        "!pip install evaluate\n",
        "!pip install seqeval"
      ]
    },
    {
      "cell_type": "code",
      "execution_count": null,
      "metadata": {
        "id": "UjihAVr90bDo"
      },
      "outputs": [],
      "source": [
        "# This code block just contains standard setup code for running in Python\n",
        "import time\n",
        "\n",
        "# PyTorch imports\n",
        "import torch\n",
        "from torch import nn\n",
        "from torch.utils.data import DataLoader, Subset #random_split\n",
        "import numpy as np\n",
        "\n",
        "# Fix the random seed(s) for reproducability\n",
        "torch.random.manual_seed(8942764)\n",
        "torch.cuda.manual_seed(8942764)\n",
        "np.random.seed(8942764)\n",
        "\n",
        "\n",
        "# Set the device \n",
        "device = torch.device('cuda' if torch.cuda.is_available() else 'cpu')\n",
        "# Alternatively if you're working on a MAC with at least a M1 chip you can set the device as follows\n",
        "device = torch.device('mps' if torch.backends.mps.device else 'cpu')"
      ]
    },
    {
      "cell_type": "code",
      "execution_count": null,
      "metadata": {},
      "outputs": [],
      "source": [
        "from transformers import AutoTokenizer, BertModel, DataCollatorForTokenClassification\n",
        "\n",
        "import evaluate"
      ]
    },
    {
      "cell_type": "code",
      "execution_count": null,
      "metadata": {},
      "outputs": [],
      "source": [
        "# Load the dataset\n",
        "from datasets import ClassLabel, Sequence, load_dataset\n",
        "\n",
        "data_splits = load_dataset('json', data_files={'train': 'dinos_and_deities_train_bio.jsonl', 'dev': 'dinos_and_deities_dev_bio_sm.jsonl', 'test': 'dinos_and_deities_test_bio_nolabels.jsonl'})"
      ]
    },
    {
      "cell_type": "code",
      "execution_count": null,
      "metadata": {
        "id": "duHZ1XZMoYkZ"
      },
      "outputs": [],
      "source": [
        "label_names_fname = \"dinos_and_deities_train_bio.jsonl.labels\"\n",
        "labels_int2str = []\n",
        "with open(label_names_fname) as f:\n",
        "    labels_int2str = f.read().split()\n",
        "print(f\"Labels: {labels_int2str}\")"
      ]
    },
    {
      "cell_type": "code",
      "execution_count": null,
      "metadata": {},
      "outputs": [],
      "source": [
        "labels_str2int = {l: i for i, l in enumerate(labels_int2str)}\n",
        "\n",
        "data_splits.cast_column(\"ner_tags\", Sequence(ClassLabel(names=labels_int2str)))\n",
        "print(data_splits)"
      ]
    },
    {
      "cell_type": "code",
      "execution_count": null,
      "metadata": {
        "id": "gaqtJZZFmDMf"
      },
      "outputs": [],
      "source": [
        "# initialize pretrained BERT tokenizer. This might take a while the first time it's run because the model needs to be downloaded.\n",
        "# Note: if you change the BERT model later, don't forget to also change this!!\n",
        "tokenizer = AutoTokenizer.from_pretrained(\"bert-base-cased\")"
      ]
    },
    {
      "cell_type": "code",
      "execution_count": null,
      "metadata": {
        "id": "-uv_urtjmQH2"
      },
      "outputs": [],
      "source": [
        "# Check out some examples from the dataset\n",
        "print(data_splits[\"train\"][8])\n",
        "print(data_splits[\"dev\"][5])"
      ]
    },
    {
      "cell_type": "code",
      "execution_count": null,
      "metadata": {
        "id": "utsg41nOizGz"
      },
      "outputs": [],
      "source": [
        "# This dataset is split into a train, validation and test set, and each token has a label.\n",
        "# Data from the dataset can generally be accessed like a Python dict.\n",
        "print(data_splits['train'].features)\n",
        "\n",
        "# Print the original sentence (which is whitespace tokenized).\n",
        "example_input_tokens = data_splits['train'][8]['tokens']\n",
        "print(f\"Original tokens: {example_input_tokens}\")\n",
        "\n",
        "# Print the labels of the sentence.\n",
        "example_ner_labels = data_splits['train'][8]['ner_tags']\n",
        "print(f\"NER labels: {example_ner_labels}\")\n",
        "\n",
        "# Map integer to string labels for the sentence\n",
        "example_mapped_labels = [labels_int2str[l] for l in example_ner_labels]\n",
        "print(f'Labels: {example_mapped_labels}')\n",
        "\n",
        "# Print the sentence split into tokens.\n",
        "example_tokenized = tokenizer(example_input_tokens, is_split_into_words=True)\n",
        "print('BERT Tokenized: ', example_tokenized.tokens())\n",
        "\n",
        "# Print the number of tokens in the vocabulary\n",
        "print(f'Vocab size: {tokenizer.vocab_size}')\n",
        "\n",
        "# # Print the sentence mapped to token ids.\n",
        "print('Token IDs: ', tokenizer.convert_tokens_to_ids(example_tokenized.tokens()))\n",
        "\n",
        "# Of course, there are now way more tokens than labels! Fortunately the HF tokenizer\n",
        "# provides a function that will give us the mapping:\n",
        "print(example_tokenized.word_ids())"
      ]
    },
    {
      "cell_type": "code",
      "execution_count": null,
      "metadata": {
        "id": "ZCTjD23gHKFB"
      },
      "outputs": [],
      "source": [
        "# Function that uses that along with the original labels to get the new set of labels\n",
        "# for each BERT-tokenized token.\n",
        "def align_labels_with_tokens(labels, word_ids):\n",
        "    new_labels = []\n",
        "    current_word = None\n",
        "    for word_id in word_ids:\n",
        "        if word_id != current_word:\n",
        "            # Start of a new word!\n",
        "            current_word = word_id\n",
        "            label = -100 if word_id is None else labels[word_id]\n",
        "            new_labels.append(label)\n",
        "        elif word_id is None:\n",
        "            # Special token\n",
        "            new_labels.append(-100)\n",
        "        else:\n",
        "            # Same word as previous token\n",
        "            label = labels[word_id]\n",
        "            str_label = labels_int2str[label]\n",
        "            if str_label[0] == 'B':\n",
        "                new_str_label = 'I' + str_label[1:]\n",
        "                label = labels_str2int[new_str_label]\n",
        "            new_labels.append(label)\n",
        "\n",
        "    return new_labels"
      ]
    },
    {
      "cell_type": "code",
      "execution_count": null,
      "metadata": {
        "id": "zP8KavRk2z9j"
      },
      "outputs": [],
      "source": [
        "tokenizer_aligned_labels = align_labels_with_tokens(example_ner_labels, example_tokenized.word_ids())\n",
        "print(f'Aligned labels: {tokenizer_aligned_labels}')\n",
        "print(f'Mapped aligned labels: {[labels_int2str[l] if l >= 0 else \"_\" for l in tokenizer_aligned_labels]}')"
      ]
    },
    {
      "cell_type": "code",
      "execution_count": null,
      "metadata": {
        "id": "m4cpmrYdHxbS"
      },
      "outputs": [],
      "source": [
        "# Let's check the function on the example from before. \n",
        "# The special tokens don't have labels, so we'll just replace those with _\n",
        "aligned_labels = align_labels_with_tokens(example_ner_labels, example_tokenized.word_ids())\n",
        "print(f\"Tokens: {example_tokenized.tokens()}\")\n",
        "print(f\"Aligned labels: {[labels_int2str[l] if l >= 0 else '_' for l in aligned_labels]}\")"
      ]
    },
    {
      "cell_type": "code",
      "execution_count": null,
      "metadata": {
        "id": "X2qrKgKe7E8N"
      },
      "outputs": [],
      "source": [
        "# Need to get the whole dataset into this format, so need to write a fn\n",
        "# we can apply efficiently across all examples using Dataset.map.\n",
        "def tokenize_and_align_labels(examples):\n",
        "    tokenized_inputs = tokenizer(\n",
        "        examples[\"tokens\"], truncation=True, is_split_into_words=True\n",
        "    )\n",
        "    all_labels = examples[\"ner_tags\"]\n",
        "    new_labels = []\n",
        "    for i, labels in enumerate(all_labels):\n",
        "        word_ids = tokenized_inputs.word_ids(i)\n",
        "        new_labels.append(align_labels_with_tokens(labels, word_ids))\n",
        "\n",
        "    tokenized_inputs[\"labels\"] = new_labels\n",
        "    return tokenized_inputs"
      ]
    },
    {
      "cell_type": "code",
      "execution_count": null,
      "metadata": {
        "id": "GmY5nHOO65kV"
      },
      "outputs": [],
      "source": [
        "# Now we can apply that fn to tokenize all the data\n",
        "tokenized_data_splits = data_splits.map(\n",
        "    tokenize_and_align_labels,\n",
        "    batched=True,\n",
        "    remove_columns=data_splits[\"train\"].column_names,\n",
        ")"
      ]
    },
    {
      "cell_type": "code",
      "execution_count": null,
      "metadata": {
        "id": "P9gLGKXq6YJO"
      },
      "outputs": [],
      "source": [
        "# Testing batcher\n",
        "print(\"Examples:\")\n",
        "for i in range(2):\n",
        "    print(tokenized_data_splits[\"train\"][i][\"labels\"])\n",
        "\n",
        "data_collator = DataCollatorForTokenClassification(tokenizer=tokenizer)\n",
        "batch = data_collator([tokenized_data_splits[\"train\"][i] for i in range(2)])"
      ]
    },
    {
      "cell_type": "code",
      "execution_count": null,
      "metadata": {
        "id": "5GMWXy2o-vu4"
      },
      "outputs": [],
      "source": [
        "# Evaluation: we can use the seqeval library to handle calculating span-level precision, recall and F1\n",
        "metric = evaluate.load(\"seqeval\")\n",
        "\n",
        "labels = data_splits[\"train\"][0][\"ner_tags\"]\n",
        "labels = [labels_int2str[i] for i in labels]\n",
        "print(labels)\n",
        "\n",
        "predictions = labels.copy()\n",
        "predictions[0] = \"O\"\n",
        "metric.compute(predictions=[predictions], references=[labels])"
      ]
    },
    {
      "cell_type": "code",
      "execution_count": null,
      "metadata": {},
      "outputs": [],
      "source": [
        "def postprocess(predictions, labels):\n",
        "    true_labels = [[labels_int2str[l] for l in label if l != -100] for label in labels]\n",
        "    true_predictions = [[labels_int2str[p] for (p, l) in zip(prediction, label) if l!=-100] for prediction, label in zip(predictions, labels)]\n",
        "    return true_labels, true_predictions"
      ]
    },
    {
      "cell_type": "code",
      "execution_count": null,
      "metadata": {},
      "outputs": [],
      "source": [
        "# This code runs evaluation on test data.\n",
        "\n",
        "@torch.no_grad()\n",
        "def run_eval(model, dataset, batch_size, device, collate_fn=None):\n",
        "    model.eval().to(device)\n",
        "    dataloader = DataLoader(dataset, batch_size, shuffle =False, collate_fn=collate_fn)\n",
        "\n",
        "    lossfn = nn.NLLLoss()\n",
        "    val_loss = []\n",
        "\n",
        "    for i, batch in enumerate(dataloader):\n",
        "        batch = {k:v.to(device) for k,v in batch.items() if isinstance(v, torch.Tensor)}\n",
        "        y = batch.pop('labels')\n",
        "\n",
        "        logits = model(**batch)\n",
        "        B, T, C = logits.shape\n",
        "        loss = lossfn(logits.reshape(-1, C), y.reshape(-1))\n",
        "\n",
        "        pred = logits.argmax(-1)\n",
        "        val_loss.append(loss.item())\n",
        "\n",
        "        true_labels, true_predictions = postprocess(pred, y)\n",
        "        metric.add_batch(predictions = true_predictions, references= true_labels)\n",
        "\n",
        "    results = metric.compute()\n",
        "    validation_loss = np.mean(val_loss)\n",
        "    return validation_loss, results"
      ]
    },
    {
      "cell_type": "code",
      "execution_count": null,
      "metadata": {},
      "outputs": [],
      "source": [
        "@torch.no_grad()\n",
        "def valid(model, dataset, batch_size, device, collate_fn=None):\n",
        "    model.eval().to(device)\n",
        "    dataloader = DataLoader(dataset, batch_size, shuffle =False, collate_fn=collate_fn)\n",
        "\n",
        "    lossfn = nn.NLLLoss()\n",
        "    eval_preds, eval_labels = [], []\n",
        "    eval_loss = []\n",
        "\n",
        "    for i, batch in enumerate(dataloader):\n",
        "        batch = {k:v.to(device) for k,v in batch.items() if isinstance(v, torch.Tensor)}\n",
        "        y = batch.pop('labels')\n",
        "\n",
        "        logits = model(**batch)\n",
        "\n",
        "        B, T, C = logits.shape\n",
        "        loss = lossfn(logits.reshape(-1, C), y.reshape(-1))\n",
        "\n",
        "        flattened_targets = y.reshape(-1)\n",
        "        active_logits = logits.reshape(-1, C)\n",
        "        flattened_predictions = torch.argmax(active_logits, axis = -1)\n",
        "\n",
        "        active_accuracy = y.view(-1) != -100\n",
        "\n",
        "        labels = torch.masked_select(flattened_targets, active_accuracy)\n",
        "        predictions = torch.masked_select(flattened_predictions, active_accuracy)\n",
        "\n",
        "        eval_labels.extend(labels)\n",
        "        eval_preds.extend(predictions)\n",
        "        eval_loss.append(loss.item())\n",
        "\n",
        "    eval_loss = np.mean(eval_loss)\n",
        "\n",
        "    labels = [labels_int2str[i] for i in eval_labels]\n",
        "    predictions = [labels_int2str[i] for i in eval_preds]\n",
        "\n",
        "    results = metric.compute(predictions=[predictions], references=[labels])\n",
        "\n",
        "    return eval_loss, results"
      ]
    },
    {
      "cell_type": "code",
      "execution_count": null,
      "metadata": {
        "id": "VQcF7uNCZ7qp"
      },
      "outputs": [],
      "source": [
        "# This code trains the model and evaluates it on test data. It should print\n",
        "# progress messages during training indicating loss, accuracy and training speed.\n",
        "\n",
        "def train(model,\n",
        "          train_dataset,\n",
        "          val_dataset,\n",
        "          num_epochs,\n",
        "          batch_size,\n",
        "          optimizer_cls,\n",
        "          lr,\n",
        "          weight_decay,\n",
        "          device,\n",
        "          collate_fn=None,\n",
        "          log_every=100):\n",
        "  \n",
        "    model = model.train().to(device)\n",
        "    dataloader = DataLoader(train_dataset, batch_size, shuffle=True, collate_fn=collate_fn)\n",
        "\n",
        "    if optimizer_cls == 'SGD':\n",
        "        optimizer = torch.optim.SGD(model.parameters(), lr=lr, weight_decay=weight_decay)\n",
        "    elif optimizer_cls == 'Adam':\n",
        "        optimizer = torch.optim.Adam(model.parameters(), lr=lr, weight_decay=weight_decay)\n",
        "    elif optimizer_cls == 'AdamW':\n",
        "        optimizer = torch.optim.AdamW(model.parameters(), lr=lr, weight_decay=weight_decay)\n",
        "\n",
        "    train_loss_history = []\n",
        "    train_acc_history = []\n",
        "    val_loss_history = []\n",
        "    val_acc_history = []\n",
        "\n",
        "    lossfn = nn.NLLLoss()\n",
        "    for e in range(num_epochs):\n",
        "        model.train(True)\n",
        "        epoch_loss_history = []\n",
        "        epoch_acc_history = []\n",
        "        start_time = time.time()\n",
        "        for i, batch in enumerate(dataloader):\n",
        "            batch = {k:v.to(device) for k,v in batch.items() if isinstance(v, torch.Tensor)}\n",
        "            y = batch.pop('labels')\n",
        "          \n",
        "            logits = model(**batch)\n",
        "            loss = lossfn(logits, y)\n",
        "\n",
        "            pred = logits.argmax(1)\n",
        "            acc = (pred == y).float().mean()\n",
        "\n",
        "            epoch_loss_history.append(loss.item())\n",
        "            epoch_acc_history.append(acc.item())\n",
        "\n",
        "            if (i % log_every == 0):\n",
        "                speed = 0 if i == 0 else log_every/(time.time()-start_time)\n",
        "                print(f'epoch: {e}\\t iter: {i}\\t train_loss: {np.mean(epoch_loss_history):.3e}\\t train_acc:{np.mean(epoch_acc_history):.3f}\\t speed:{speed:.3f} b/s')\n",
        "                start_time = time.time()\n",
        "            loss.backward()\n",
        "            optimizer.step()\n",
        "            optimizer.zero_grad()\n",
        "      \n",
        "    val_loss, val_metrics = run_eval(model, val_dataset, batch_size, device, collate_fn=collate_fn, print_out=False)\n",
        "\n",
        "    val_acc = val_metrics['overall_accuracy']\n",
        "    val_p = val_metrics['overall_precision']\n",
        "    val_r = val_metrics['overall_recall']\n",
        "    val_f1 = val_metrics['overall_f1']\n",
        "\n",
        "    train_loss_history.append(np.mean(epoch_loss_history))\n",
        "    train_acc_history.append(np.mean(epoch_acc_history))\n",
        "    val_loss_history.append(val_loss.item())\n",
        "    val_acc_history.append(val_acc)\n",
        "    print(f'epoch: {e}\\t train_loss: {train_loss_history[-1]:.3e}\\t train_accuracy:{train_acc_history[-1]:.3f}\\t val_loss: {val_loss_history[-1]:.3e}\\t val_acc:{val_acc_history[-1]:.3f}\\t val_p:{val_p:.3f}\\t val_r:{val_r:.3f}\\t val_f1:{val_f1:.3f}')\n",
        "\n",
        "    return model, (train_loss_history, train_acc_history, val_loss_history, val_acc_history)"
      ]
    },
    {
      "cell_type": "code",
      "execution_count": null,
      "metadata": {
        "id": "fb0wjC-zTRz0"
      },
      "outputs": [],
      "source": [
        "# This code defines the token classification class using BERT.\n",
        "# The classifier is defined on top of the final layer of BERT.\n",
        "# The classifier has 1 hidden layer with 128 hidden nodes though we have found that\n",
        "# using a smaller number of hidden nodes does not make much difference,\n",
        " \n",
        "class BertForTokenClassification(nn.Module):\n",
        "    def __init__(self, bert_pretrained_config_name, num_classes, freeze_bert=False, dropout_prob=0.1):\n",
        "        '''\n",
        "        BERT with a classification MLP\n",
        "        args:\n",
        "        - bert_pretrained_config_name (str): model name from huggingface hub\n",
        "        - num_classes (int): number of classes in the classification task\n",
        "        - freeze_bert (bool): [default False] If true gradients are not computed for\n",
        "                              BERT's parameters.\n",
        "        - dropout_prob (float): [default 0.1] probability of dropping each activation.\n",
        "        '''\n",
        "        super().__init__()\n",
        "        self.bert = BertModel.from_pretrained(bert_pretrained_config_name)\n",
        "        self.bert.requires_grad_(not freeze_bert)\n",
        "        self.classifier = nn.Sequential(\n",
        "            nn.Linear(self.bert.config.hidden_size, 128),\n",
        "            nn.Tanh(),\n",
        "            nn.Dropout(dropout_prob),\n",
        "            nn.Linear(128, num_classes),\n",
        "        )\n",
        "\n",
        "    def forward(self, **bert_kwargs):\n",
        "        output = self.bert(**bert_kwargs)\n",
        "        logits = self.classifier(output.last_hidden_state)\n",
        "        return logits"
      ]
    },
    {
      "cell_type": "code",
      "execution_count": null,
      "metadata": {},
      "outputs": [],
      "source": [
        "# multiply your learning rate by k when using batch size of kN\n",
        "lr = 4*2e-5 \n",
        "weight_decay = 0.01\n",
        "epochs = 5\n",
        "batch_size = 16\n",
        "dropout_prob = 0.2\n",
        "freeze_bert = False"
      ]
    },
    {
      "cell_type": "code",
      "execution_count": null,
      "metadata": {
        "id": "w6NVHqYSYds-"
      },
      "outputs": [],
      "source": [
        "# At the end of each epoch, you also see validation loss and validation accuracy.\n",
        "\n",
        "# Make sure this is the same as you use for tokenization!\n",
        "bert_model = 'bert-base-cased'\n",
        "\n",
        "num_labels = len(labels_int2str)\n",
        "print(f\"Num labels: {num_labels}\")\n",
        "\n",
        "bert_cls = BertForTokenClassification(bert_model, num_labels, dropout_prob=dropout_prob, freeze_bert=freeze_bert)\n",
        "\n",
        "print(f'Trainable parameters: {sum([p.numel() for p in bert_cls.parameters() if p.requires_grad])}\\n')\n",
        "\n",
        "# Flag for setting \"debug\" mode. Set debug to False for full training.\n",
        "debug = False"
      ]
    },
    {
      "cell_type": "code",
      "execution_count": null,
      "metadata": {},
      "outputs": [],
      "source": [
        "# Sample a subset of the training data for faster iteration in debug mode\n",
        "subset_size = 1000\n",
        "subset_indices = torch.randperm(len(tokenized_data_splits['train']))[:subset_size]\n",
        "train_subset = Subset(tokenized_data_splits['train'], subset_indices)\n",
        "\n",
        "bert_cls, bert_cls_logs = train(bert_cls, tokenized_data_splits['train'] if not debug else train_subset, tokenized_data_splits['dev'],\n",
        "                                num_epochs=epochs, batch_size=batch_size, optimizer_cls='AdamW',\n",
        "                                lr=lr, weight_decay=weight_decay, device=device,\n",
        "                                collate_fn=data_collator, log_every=10 if debug else 100)\n",
        "\n",
        "# Final eval\n",
        "final_loss, final_metrics = run_eval(bert_cls, tokenized_data_splits['dev'], batch_size=32, device=device, collate_fn=data_collator)\n",
        "final_acc = final_metrics['overall_accuracy']\n",
        "final_p = final_metrics['overall_precision']\n",
        "final_r = final_metrics['overall_recall']\n",
        "final_f1 = final_metrics['overall_f1']\n",
        "print(f'\\nFinal Loss: {final_loss:.3e}\\t Final Accuracy: {final_acc:.3f}\\t dev_p:{final_p:.3f}\\t dev_r:{final_r:.3f}\\t dev_f1:{final_f1:.3f}')"
      ]
    },
    {
      "cell_type": "code",
      "execution_count": null,
      "metadata": {},
      "outputs": [],
      "source": [
        "import matplotlib.pyplot as plt"
      ]
    },
    {
      "cell_type": "code",
      "execution_count": null,
      "metadata": {},
      "outputs": [],
      "source": [
        "loss  = bert_cls_logs[0]\n",
        "acc   = bert_cls_logs[1]\n",
        "val_loss = bert_cls_logs[2]\n",
        "val_acc = bert_cls_logs[3]\n",
        "epochs = range(len(loss))\n",
        "print(epochs)\n",
        "plt.plot(epochs, loss, 'r', label='Training loss')\n",
        "plt.plot(epochs, val_loss, 'b', label='Validation loss')\n",
        "plt.title('Training and Validation loss')\n",
        "plt.legend()"
      ]
    }
  ],
  "metadata": {
    "colab": {
      "provenance": []
    },
    "kernelspec": {
      "display_name": "vlms",
      "language": "python",
      "name": "python3"
    },
    "language_info": {
      "codemirror_mode": {
        "name": "ipython",
        "version": 3
      },
      "file_extension": ".py",
      "mimetype": "text/x-python",
      "name": "python",
      "nbconvert_exporter": "python",
      "pygments_lexer": "ipython3",
      "version": "3.12.0"
    }
  },
  "nbformat": 4,
  "nbformat_minor": 0
}
